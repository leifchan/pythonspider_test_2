{
 "cells": [
  {
   "cell_type": "code",
   "execution_count": 1,
   "metadata": {},
   "outputs": [],
   "source": [
    "import requests\n",
    "import json\n",
    "import time\n"
   ]
  },
  {
   "cell_type": "code",
   "execution_count": 3,
   "metadata": {},
   "outputs": [],
   "source": [
    "with open('dianying.csv','w',encoding='utf-8') as f:\n",
    "    for i in range(3):\n",
    "        url = 'https://movie.douban.com/j/new_search_subjects?sort=T&range=0,10&tags=&start={}&genres=剧情'.format(i*20)\n",
    "        file = requests.get(url).json()\n",
    "        time.sleep(2)\n",
    "        \n",
    "        for i in range(20):\n",
    "            dict = file['data'][i]\n",
    "            title = dict['title']\n",
    "            directors = dict['directors']\n",
    "            rate = dict['rate']\n",
    "            casts = dict['casts']\n",
    "            url = dict['url']\n",
    "            \n",
    "            f.write('{},{},{},{},{}\\n'.format(title,' '.join(directors),rate,' '.join(casts),url))"
   ]
  },
  {
   "cell_type": "code",
   "execution_count": 4,
   "metadata": {},
   "outputs": [
    {
     "data": {
      "text/plain": [
       "'https://movie.douban.com/j/new_search_subjects?sort=T&range=0,10&tags=&start=0&genres=剧情'"
      ]
     },
     "execution_count": 4,
     "metadata": {},
     "output_type": "execute_result"
    }
   ],
   "source": [
    "'https://movie.douban.com/j/new_search_subjects?sort=T&range=0,10&tags=&start=0&genres=剧情'"
   ]
  },
  {
   "cell_type": "code",
   "execution_count": 5,
   "metadata": {},
   "outputs": [],
   "source": [
    "import pandas as pd"
   ]
  },
  {
   "cell_type": "code",
   "execution_count": 9,
   "metadata": {},
   "outputs": [
    {
     "data": {
      "text/html": [
       "<div>\n",
       "<style scoped>\n",
       "    .dataframe tbody tr th:only-of-type {\n",
       "        vertical-align: middle;\n",
       "    }\n",
       "\n",
       "    .dataframe tbody tr th {\n",
       "        vertical-align: top;\n",
       "    }\n",
       "\n",
       "    .dataframe thead th {\n",
       "        text-align: right;\n",
       "    }\n",
       "</style>\n",
       "<table border=\"1\" class=\"dataframe\">\n",
       "  <thead>\n",
       "    <tr style=\"text-align: right;\">\n",
       "      <th></th>\n",
       "      <th>title</th>\n",
       "      <th>directors</th>\n",
       "      <th>rate</th>\n",
       "      <th>casts</th>\n",
       "      <th>url</th>\n",
       "    </tr>\n",
       "  </thead>\n",
       "  <tbody>\n",
       "    <tr>\n",
       "      <th>0</th>\n",
       "      <td>肖申克的救赎</td>\n",
       "      <td>弗兰克·德拉邦特</td>\n",
       "      <td>9.6</td>\n",
       "      <td>蒂姆·罗宾斯 摩根·弗里曼 鲍勃·冈顿 威廉姆·赛德勒 克兰西·布朗</td>\n",
       "      <td>https://movie.douban.com/subject/1292052/</td>\n",
       "    </tr>\n",
       "    <tr>\n",
       "      <th>1</th>\n",
       "      <td>这个杀手不太冷</td>\n",
       "      <td>吕克·贝松</td>\n",
       "      <td>9.4</td>\n",
       "      <td>让·雷诺 娜塔莉·波特曼 加里·奥德曼 丹尼·爱罗 彼得·阿佩尔</td>\n",
       "      <td>https://movie.douban.com/subject/1295644/</td>\n",
       "    </tr>\n",
       "    <tr>\n",
       "      <th>2</th>\n",
       "      <td>阿甘正传</td>\n",
       "      <td>罗伯特·泽米吉斯</td>\n",
       "      <td>9.4</td>\n",
       "      <td>汤姆·汉克斯 罗宾·怀特 加里·西尼斯 麦凯尔泰·威廉逊 莎莉·菲尔德</td>\n",
       "      <td>https://movie.douban.com/subject/1292720/</td>\n",
       "    </tr>\n",
       "    <tr>\n",
       "      <th>3</th>\n",
       "      <td>盗梦空间</td>\n",
       "      <td>克里斯托弗·诺兰</td>\n",
       "      <td>9.3</td>\n",
       "      <td>莱昂纳多·迪卡普里奥 约瑟夫·高登-莱维特 艾伦·佩吉 汤姆·哈迪 渡边谦</td>\n",
       "      <td>https://movie.douban.com/subject/3541415/</td>\n",
       "    </tr>\n",
       "    <tr>\n",
       "      <th>4</th>\n",
       "      <td>泰坦尼克号</td>\n",
       "      <td>詹姆斯·卡梅隆</td>\n",
       "      <td>9.3</td>\n",
       "      <td>莱昂纳多·迪卡普里奥 凯特·温丝莱特 比利·赞恩 凯西·贝茨 弗兰西丝·费舍</td>\n",
       "      <td>https://movie.douban.com/subject/1292722/</td>\n",
       "    </tr>\n",
       "  </tbody>\n",
       "</table>\n",
       "</div>"
      ],
      "text/plain": [
       "     title directors  rate                                   casts  \\\n",
       "0   肖申克的救赎  弗兰克·德拉邦特   9.6      蒂姆·罗宾斯 摩根·弗里曼 鲍勃·冈顿 威廉姆·赛德勒 克兰西·布朗   \n",
       "1  这个杀手不太冷     吕克·贝松   9.4        让·雷诺 娜塔莉·波特曼 加里·奥德曼 丹尼·爱罗 彼得·阿佩尔   \n",
       "2     阿甘正传  罗伯特·泽米吉斯   9.4     汤姆·汉克斯 罗宾·怀特 加里·西尼斯 麦凯尔泰·威廉逊 莎莉·菲尔德   \n",
       "3     盗梦空间  克里斯托弗·诺兰   9.3   莱昂纳多·迪卡普里奥 约瑟夫·高登-莱维特 艾伦·佩吉 汤姆·哈迪 渡边谦   \n",
       "4    泰坦尼克号   詹姆斯·卡梅隆   9.3  莱昂纳多·迪卡普里奥 凯特·温丝莱特 比利·赞恩 凯西·贝茨 弗兰西丝·费舍   \n",
       "\n",
       "                                         url  \n",
       "0  https://movie.douban.com/subject/1292052/  \n",
       "1  https://movie.douban.com/subject/1295644/  \n",
       "2  https://movie.douban.com/subject/1292720/  \n",
       "3  https://movie.douban.com/subject/3541415/  \n",
       "4  https://movie.douban.com/subject/1292722/  "
      ]
     },
     "execution_count": 9,
     "metadata": {},
     "output_type": "execute_result"
    }
   ],
   "source": [
    "data = pd.read_csv('dianying.csv',names=['title','directors','rate','casts','url'])\n",
    "data.head()"
   ]
  },
  {
   "cell_type": "code",
   "execution_count": null,
   "metadata": {},
   "outputs": [],
   "source": []
  }
 ],
 "metadata": {
  "kernelspec": {
   "display_name": "Python 3",
   "language": "python",
   "name": "python3"
  },
  "language_info": {
   "codemirror_mode": {
    "name": "ipython",
    "version": 3
   },
   "file_extension": ".py",
   "mimetype": "text/x-python",
   "name": "python",
   "nbconvert_exporter": "python",
   "pygments_lexer": "ipython3",
   "version": "3.6.4"
  }
 },
 "nbformat": 4,
 "nbformat_minor": 2
}
