{
 "cells": [
  {
   "cell_type": "code",
   "execution_count": 1,
   "metadata": {},
   "outputs": [
    {
     "data": {
      "text/plain": [
       "'//*[@id=\"page_list\"]/ul/li[2]/div[2]/div/a/span'"
      ]
     },
     "execution_count": 1,
     "metadata": {},
     "output_type": "execute_result"
    }
   ],
   "source": [
    "'//*[@id=\"page_list\"]/ul/li[1]/div[2]/div/a/span'\n",
    "'//*[@id=\"page_list\"]/ul/li[2]/div[2]/div/a/span'\n",
    "'//*[@id=\"page_list\"]/ul/li[2]/div[2]/div/a/span'"
   ]
  },
  {
   "cell_type": "code",
   "execution_count": 10,
   "metadata": {},
   "outputs": [],
   "source": [
    "from lxml import etree\n",
    "import requests\n",
    "import time"
   ]
  },
  {
   "cell_type": "code",
   "execution_count": 4,
   "metadata": {},
   "outputs": [],
   "source": [
    "url = 'http://cd.xiaozhu.com/'\n",
    "res = requests.get(url).text\n",
    "parse = etree.HTML(res)"
   ]
  },
  {
   "cell_type": "code",
   "execution_count": 11,
   "metadata": {},
   "outputs": [],
   "source": [
    "file = parse.xpath('//*[@id=\"page_list\"]/ul/li/div[2]/div/a/span/text()')\n",
    "time.sleep(1)"
   ]
  },
  {
   "cell_type": "code",
   "execution_count": 12,
   "metadata": {},
   "outputs": [
    {
     "name": "stdout",
     "output_type": "stream",
     "text": [
      "【夕替】宽窄巷子｜人民公园｜地铁｜茶艺｜投影\n",
      "【家庭影院】/近高升桥地铁/武侯祠锦里景区\n",
      "宽窄巷子人民公园地铁口舒适标准三居室\n",
      "太古里/武侯/宽窄/春熙路/九眼桥温馨套二\n",
      "【柒栖.星河】宽窄旁，双地铁，情侣房\\亲子房\n",
      "凉凉家/建设巷美食/东郊记忆/海盐清新套二\n",
      "【亿染天堂】优品道-杜甫草堂-纯木质感两居室\n",
      "【凡间】一号线 文殊院地铁站 春熙路\n",
      "3春熙太古里/宽窄/锦里/私人影院/奢华\n",
      "凉凉家/甜美一居/双桥地铁/万象城/春熙路\n",
      "[本白Room]宽窄巷/春熙路/北欧清新\n",
      "悠哉优宅：成都东站/宽窄巷子/万象城高空公寓\n",
      "成都东客站套三～地铁直达春熙路宽窄巷子（伍）\n",
      "特价、地铁房、宽窄巷子、熊猫基地、春熙路、\n",
      "建设路/春熙路/东郊记忆/电子科大/SM广场\n",
      "成都双流机场附近空港国际城【四夕民宿】\n",
      "叁·近宽窄巷子八宝街民族森林风小窝\n",
      "新作秒殺不慕仙居宽窄巷子天府广场太古里ins\n",
      "宽窄巷子吉祥苑温馨舒适套二\n",
      "【新房7折】清爽北欧 春熙路/红星桥/近地铁\n",
      "地铁机场火车站春熙路宽窄巷子熊猫基地舒适套二\n",
      "【夜.语】近春熙路/太古里/东郊记忆最美夜景\n",
      "成都东客站\\巨屏投影/地铁房/直达景区(捌)\n",
      "【夏沫家●斑驳】市中心春熙太古里/近地铁套二\n"
     ]
    }
   ],
   "source": [
    "for i in file:\n",
    "    print(i)"
   ]
  },
  {
   "cell_type": "code",
   "execution_count": null,
   "metadata": {},
   "outputs": [],
   "source": [
    "'//*[@id=\"page_list\"]/ul/li[1]'  #整体\n",
    "'//*[@id=\"page_list\"]/ul/li[1]/div[2]/div/a/span'  #标题"
   ]
  },
  {
   "cell_type": "code",
   "execution_count": 13,
   "metadata": {},
   "outputs": [],
   "source": [
    "from lxml import etree\n",
    "import requests\n",
    "import time"
   ]
  },
  {
   "cell_type": "code",
   "execution_count": 20,
   "metadata": {},
   "outputs": [
    {
     "name": "stdout",
     "output_type": "stream",
     "text": [
      "[]\n"
     ]
    }
   ],
   "source": [
    "url = 'http://cd.xiaozhu.com/'\n",
    "res = requests.get(url).text\n",
    "par = etree.HTML(res)\n",
    "\n",
    "file = par.xpath('//*[@id=\"page_list\"]/ul/li[1]/div[2]/div/a/span/text()')\n",
    "print(file)\n",
    "time.sleep(1.5)\n",
    "#title = file.xpath('./div[2]/div/a/span/text()')\n",
    "#print(title)\n"
   ]
  },
  {
   "cell_type": "code",
   "execution_count": 16,
   "metadata": {},
   "outputs": [
    {
     "ename": "NameError",
     "evalue": "name 'title' is not defined",
     "output_type": "error",
     "traceback": [
      "\u001b[1;31m---------------------------------------------------------------------------\u001b[0m",
      "\u001b[1;31mNameError\u001b[0m                                 Traceback (most recent call last)",
      "\u001b[1;32m<ipython-input-16-eee3914a8eb9>\u001b[0m in \u001b[0;36m<module>\u001b[1;34m()\u001b[0m\n\u001b[1;32m----> 1\u001b[1;33m \u001b[0mtitle\u001b[0m\u001b[1;33m\u001b[0m\u001b[0m\n\u001b[0m",
      "\u001b[1;31mNameError\u001b[0m: name 'title' is not defined"
     ]
    }
   ],
   "source": [
    "for div in file:\n",
    "    title = div.xpath('./div[2]/div/a/span/text()')[0]\n",
    "    print(title)"
   ]
  },
  {
   "cell_type": "code",
   "execution_count": null,
   "metadata": {},
   "outputs": [],
   "source": []
  }
 ],
 "metadata": {
  "kernelspec": {
   "display_name": "Python 3",
   "language": "python",
   "name": "python3"
  },
  "language_info": {
   "codemirror_mode": {
    "name": "ipython",
    "version": 3
   },
   "file_extension": ".py",
   "mimetype": "text/x-python",
   "name": "python",
   "nbconvert_exporter": "python",
   "pygments_lexer": "ipython3",
   "version": "3.6.4"
  }
 },
 "nbformat": 4,
 "nbformat_minor": 2
}
