{
 "cells": [
  {
   "cell_type": "code",
   "execution_count": 1,
   "metadata": {},
   "outputs": [],
   "source": [
    "import requests\n",
    "from lxml import etree"
   ]
  },
  {
   "cell_type": "code",
   "execution_count": 42,
   "metadata": {},
   "outputs": [],
   "source": [
    "import pandas as pd"
   ]
  },
  {
   "cell_type": "code",
   "execution_count": 15,
   "metadata": {},
   "outputs": [],
   "source": [
    "url='https://book.douban.com/top250'\n",
    "data = requests.get(url).text\n",
    "parse = etree.HTML(data)\n",
    "\n",
    "name = parse.xpath('//*[@id=\"content\"]/div/div[1]/div/table/tr/td[2]/div[1]/a/text()')\n",
    "\n"
   ]
  },
  {
   "cell_type": "code",
   "execution_count": null,
   "metadata": {},
   "outputs": [],
   "source": [
    "'//*[@id=\"content\"]/div/div[1]/div/table[1]/tbody/tr/td[2]/div[1]/a' #追风筝的人的xpath\n",
    "'//*[@id=\"content\"]/div/div[1]/div/table[2]/tbody/tr/td[2]/div[1]/a' #小王子的xpath\n",
    "'//*[@id=\"content\"]/div/div[1]/div/table[3]/tbody/tr/td[2]/div[1]/a'#围城的xpath"
   ]
  },
  {
   "cell_type": "code",
   "execution_count": 31,
   "metadata": {},
   "outputs": [],
   "source": [
    "books_name = parse.xpath('//*[@id=\"content\"]/div/div[1]/div/table/tr/td[2]/div[1]/a/@title')"
   ]
  },
  {
   "cell_type": "code",
   "execution_count": 32,
   "metadata": {},
   "outputs": [
    {
     "data": {
      "text/plain": [
       "['追风筝的人',\n",
       " '小王子',\n",
       " '围城',\n",
       " '解忧杂货店',\n",
       " '活着',\n",
       " '白夜行',\n",
       " '挪威的森林',\n",
       " '嫌疑人X的献身',\n",
       " '三体',\n",
       " '不能承受的生命之轻',\n",
       " '红楼梦',\n",
       " '梦里花落知多少',\n",
       " '达·芬奇密码',\n",
       " '看见',\n",
       " '百年孤独',\n",
       " '1988：我想和这个世界谈谈',\n",
       " '何以笙箫默',\n",
       " '平凡的世界（全三部）',\n",
       " '简爱（英文全本）',\n",
       " '哈利·波特与魔法石',\n",
       " '白夜行',\n",
       " '三体Ⅱ',\n",
       " '飘',\n",
       " '送你一颗子弹',\n",
       " '三体Ⅲ']"
      ]
     },
     "execution_count": 32,
     "metadata": {},
     "output_type": "execute_result"
    }
   ],
   "source": [
    "books_name"
   ]
  },
  {
   "cell_type": "code",
   "execution_count": 34,
   "metadata": {},
   "outputs": [
    {
     "name": "stdout",
     "output_type": "stream",
     "text": [
      "追风筝的人\n",
      "小王子\n",
      "围城\n",
      "解忧杂货店\n",
      "活着\n",
      "白夜行\n",
      "挪威的森林\n",
      "嫌疑人X的献身\n",
      "三体\n",
      "不能承受的生命之轻\n",
      "红楼梦\n",
      "梦里花落知多少\n",
      "达·芬奇密码\n",
      "看见\n",
      "百年孤独\n",
      "1988：我想和这个世界谈谈\n",
      "何以笙箫默\n",
      "平凡的世界（全三部）\n",
      "简爱（英文全本）\n",
      "哈利·波特与魔法石\n",
      "白夜行\n",
      "三体Ⅱ\n",
      "飘\n",
      "送你一颗子弹\n",
      "三体Ⅲ\n"
     ]
    }
   ],
   "source": [
    "for x in books_name:\n",
    "    print(x)"
   ]
  },
  {
   "cell_type": "code",
   "execution_count": null,
   "metadata": {},
   "outputs": [],
   "source": [
    "'//*[@id=\"content\"]/div/div[1]/div/table[1]/tbody/tr/td[2]/div[2]/span[2]'\n",
    "'//*[@id=\"content\"]/div/div[1]/div/table[2]/tbody/tr/td[2]/div[2]/span[2]'\n",
    "'//*[@id=\"content\"]/div/div[1]/div/table[3]/tbody/tr/td[2]/div[2]/span[2]'"
   ]
  },
  {
   "cell_type": "code",
   "execution_count": 39,
   "metadata": {},
   "outputs": [
    {
     "name": "stdout",
     "output_type": "stream",
     "text": [
      "8.9\n",
      "9.0\n",
      "8.9\n",
      "8.6\n",
      "9.1\n",
      "9.1\n",
      "8.0\n",
      "8.9\n",
      "8.8\n",
      "8.5\n",
      "9.6\n",
      "7.1\n",
      "8.2\n",
      "8.8\n",
      "9.2\n",
      "7.9\n",
      "7.8\n",
      "9.0\n",
      "8.5\n",
      "9.0\n",
      "9.2\n",
      "9.3\n",
      "9.3\n",
      "8.6\n",
      "9.2\n"
     ]
    }
   ],
   "source": [
    "score = parse.xpath('//*[@id=\"content\"]/div/div[1]/div/table/tr/td[2]/div[2]/span[2]/text()')\n",
    "for i in score:\n",
    "    print(i)"
   ]
  },
  {
   "cell_type": "code",
   "execution_count": 41,
   "metadata": {},
   "outputs": [
    {
     "name": "stdout",
     "output_type": "stream",
     "text": [
      "追风筝的人 8.9\n",
      "小王子 9.0\n",
      "围城 8.9\n",
      "解忧杂货店 8.6\n",
      "活着 9.1\n",
      "白夜行 9.1\n",
      "挪威的森林 8.0\n",
      "嫌疑人X的献身 8.9\n",
      "三体 8.8\n",
      "不能承受的生命之轻 8.5\n",
      "红楼梦 9.6\n",
      "梦里花落知多少 7.1\n",
      "达·芬奇密码 8.2\n",
      "看见 8.8\n",
      "百年孤独 9.2\n",
      "1988：我想和这个世界谈谈 7.9\n",
      "何以笙箫默 7.8\n",
      "平凡的世界（全三部） 9.0\n",
      "简爱（英文全本） 8.5\n",
      "哈利·波特与魔法石 9.0\n",
      "白夜行 9.2\n",
      "三体Ⅱ 9.3\n",
      "飘 9.3\n",
      "送你一颗子弹 8.6\n",
      "三体Ⅲ 9.2\n"
     ]
    }
   ],
   "source": [
    "for i in range(25):\n",
    "    print('{0} {1}'.format(books_name[i],score[i]))"
   ]
  },
  {
   "cell_type": "code",
   "execution_count": 43,
   "metadata": {},
   "outputs": [
    {
     "data": {
      "text/plain": [
       "'//*[@id=\"content\"]/div/div[1]/div/table[2]'"
      ]
     },
     "execution_count": 43,
     "metadata": {},
     "output_type": "execute_result"
    }
   ],
   "source": [
    "'//*[@id=\"content\"]/div/div[1]/div/table[2]'"
   ]
  },
  {
   "cell_type": "code",
   "execution_count": 53,
   "metadata": {},
   "outputs": [
    {
     "data": {
      "text/plain": [
       "'244715人评价'"
      ]
     },
     "execution_count": 53,
     "metadata": {},
     "output_type": "execute_result"
    }
   ],
   "source": [
    "num = parse.xpath('//*[@id=\"content\"]/div/div[1]/div/table[2]/tr/td[2]/div[2]/span[3]/text()')[0].strip('(').strip(')').strip()\n",
    "num"
   ]
  },
  {
   "cell_type": "code",
   "execution_count": 55,
   "metadata": {},
   "outputs": [
    {
     "name": "stdout",
     "output_type": "stream",
     "text": [
      "追风筝的人 8.9 316399人评价 为你，千千万万遍 https://book.douban.com/subject/1770782/\n",
      "小王子 9.0 244720人评价 献给长成了大人的孩子们 https://book.douban.com/subject/1084336/\n",
      "围城 8.9 200686人评价 对于“人艰不拆”四个字最彻底的违抗 https://book.douban.com/subject/1008145/\n",
      "解忧杂货店 8.6 286157人评价 一碗精心熬制的东野牌鸡汤，拒绝很难 https://book.douban.com/subject/25862578/\n",
      "活着 9.1 148046人评价 活着本身就是人生最大的意义 https://book.douban.com/subject/1082154/\n",
      "白夜行 9.1 214039人评价 暗夜独行的残破灵魂，爱与恶本就难分难舍 https://book.douban.com/subject/3259440/\n",
      "挪威的森林 8.0 196006人评价 村上之发轫，多少人的青春启蒙 https://book.douban.com/subject/1046265/\n",
      "嫌疑人X的献身 8.9 165784人评价 数学好是一种极致的浪漫 https://book.douban.com/subject/3211779/\n",
      "三体 8.8 171173人评价 你我不过都是虫子 https://book.douban.com/subject/2567698/\n",
      "不能承受的生命之轻 8.5 140889人评价 朝向媚俗的一次伟大的进军 https://book.douban.com/subject/1017143/\n",
      "红楼梦 9.6 131831人评价 谁解其中味？ https://book.douban.com/subject/1007305/\n",
      "梦里花落知多少 7.1 150360人评价 只是青春留下的余烬 https://book.douban.com/subject/1016300/\n",
      "达·芬奇密码 8.2 132413人评价 一切畅销的因素都有了 https://book.douban.com/subject/1040771/\n",
      "看见 8.8 132134人评价 在这里看见中国 https://book.douban.com/subject/20427187/\n",
      "百年孤独 9.2 133254人评价 尼采所谓的永劫复归，一场无始无终的梦魇 https://book.douban.com/subject/6082808/\n",
      "1988：我想和这个世界谈谈 7.9 124432人评价 车手韩寒的公路小说 https://book.douban.com/subject/5275059/\n",
      "何以笙箫默 7.8 122547人评价 倒追有风险，入行需谨慎 https://book.douban.com/subject/1461903/\n",
      "平凡的世界（全三部） 9.0 109068人评价 中国当代城乡生活全景 https://book.douban.com/subject/1200840/\n",
      "简爱（英文全本） 8.5 112871人评价 灰姑娘在十九世纪 https://book.douban.com/subject/1141406/\n",
      "哈利·波特与魔法石 9.0 91489人评价 羽加迪姆勒维奥萨！ https://book.douban.com/subject/1041007/\n",
      "白夜行 9.2 115084人评价 封面剧透 https://book.douban.com/subject/10554308/\n",
      "三体Ⅱ 9.3 101358人评价 无边的黑暗森林，比第一部更为恢弘壮丽 https://book.douban.com/subject/3066477/\n",
      "飘 9.3 83381人评价 革命时期的爱情，随风而逝 https://book.douban.com/subject/1068920/\n",
      "送你一颗子弹 8.6 93645人评价 犀利又温柔，穿过胸口隐隐作痛 https://book.douban.com/subject/4238362/\n",
      "三体Ⅲ 9.2 100651人评价 终章，何去何从 https://book.douban.com/subject/5363767/\n"
     ]
    }
   ],
   "source": [
    "import requests\n",
    "from lxml import etree\n",
    "import time\n",
    "\n",
    "url='https://book.douban.com/top250'\n",
    "data = requests.get('https://book.douban.com/top250').text\n",
    "parse = etree.HTML(data)\n",
    "file = parse.xpath('//*[@id=\"content\"]/div/div[1]/div/table')\n",
    "\n",
    "for div in file:\n",
    "    title = div.xpath('./tr/td[2]/div[1]/a/@title')[0]\n",
    "    score = div.xpath('./tr/td[2]/div[2]/span[2]/text()')[0]\n",
    "    num = div.xpath('./tr/td[2]/div[2]/span[3]/text()')[0].strip('(').strip(')').strip()\n",
    "    describe = div.xpath('./tr/td[2]/p[2]/span/text()')[0]\n",
    "    href = div.xpath('./tr/td[2]/div[1]/a/@href')[0]\n",
    "    print('{} {} {} {} {}'.format(title,score,num,describe,href))"
   ]
  },
  {
   "cell_type": "code",
   "execution_count": 68,
   "metadata": {},
   "outputs": [],
   "source": [
    "import requests\n",
    "from lxml import etree\n",
    "import time\n",
    "import pandas as pd \n",
    "\n",
    "title_lt,score_lt,num_lt,describe_lt,href_lt=[],[],[],[],[]\n",
    "for i in range(10):\n",
    "    url = 'https://book.douban.com/top250?start={}'.format(i*25)\n",
    "    data = requests.get(url).text\n",
    "    parse = etree.HTML(data)\n",
    "    file = parse.xpath('//*[@id=\"content\"]/div/div[1]/div/table')\n",
    "    time.sleep(2.5)\n",
    "    \n",
    "    for div in file:\n",
    "        title = div.xpath('./tr/td[2]/div[1]/a/@title')[0]\n",
    "        score = div.xpath('./tr/td[2]/div[2]/span[2]/text()')[0]\n",
    "        num = div.xpath('./tr/td[2]/div[2]/span[3]/text()')[0].strip('(').strip(')').strip()\n",
    "        describe = div.xpath('./tr/td[2]/p[2]/span/text()')\n",
    "        href = div.xpath('./tr/td[2]/div[1]/a/@href')[0]\n",
    "        if len(describe)>0:\n",
    "            describe=describe[0]\n",
    "        else:\n",
    "            describe=None\n",
    "        title_lt.append(title)\n",
    "        score_lt.append(score)\n",
    "        num_lt.append(num)\n",
    "        describe_lt.append(describe)\n",
    "        href_lt.append(href)\n",
    "        \n",
    "        \n",
    "res ={'title':title_lt,'score':score_lt,'star':num_lt,'describe':describe_lt,'href':href_lt}\n",
    "res = pd.DataFrame(res,columns=['title','score','star','describe','href'])\n",
    "res.to_excel('book_info.xlsx')\n",
    "\n",
    "    "
   ]
  },
  {
   "cell_type": "code",
   "execution_count": 67,
   "metadata": {},
   "outputs": [],
   "source": []
  },
  {
   "cell_type": "code",
   "execution_count": null,
   "metadata": {},
   "outputs": [],
   "source": []
  }
 ],
 "metadata": {
  "kernelspec": {
   "display_name": "Python 3",
   "language": "python",
   "name": "python3"
  },
  "language_info": {
   "codemirror_mode": {
    "name": "ipython",
    "version": 3
   },
   "file_extension": ".py",
   "mimetype": "text/x-python",
   "name": "python",
   "nbconvert_exporter": "python",
   "pygments_lexer": "ipython3",
   "version": "3.6.4"
  }
 },
 "nbformat": 4,
 "nbformat_minor": 2
}
