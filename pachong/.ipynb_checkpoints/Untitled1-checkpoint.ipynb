{
 "cells": [
  {
   "cell_type": "code",
   "execution_count": 1,
   "metadata": {},
   "outputs": [
    {
     "data": {
      "text/plain": [
       "'//*[@id=\"newlist_list_content_table\"]/table[2]/tbody/tr[1]/td[5]'"
      ]
     },
     "execution_count": 1,
     "metadata": {},
     "output_type": "execute_result"
    }
   ],
   "source": [
    "'//*[@id=\"newlist_list_content_table\"]/table[1]' #整体信息\n",
    "'//*[@id=\"newlist_list_content_table\"]/table[2]'\n",
    "\n",
    "'https://sou.zhaopin.com/jobs/searchresult.ashx?jl=%E5%8E%A6%E9%97%A8&kw=python&p=1&isadv=0'# url\n",
    "'https://sou.zhaopin.com/jobs/searchresult.ashx?jl=%E5%8E%A6%E9%97%A8&kw=python&p=2&isadv=0'\n",
    "'https://sou.zhaopin.com/jobs/searchresult.ashx?jl=%E5%8E%A6%E9%97%A8&kw=python&p=3&isadv=0'\n",
    "\n",
    "'//*[@id=\"newlist_list_content_table\"]/table[2]/tbody/tr[1]/td[1]/div/a[1]' #职位\n",
    "'//*[@id=\"newlist_list_content_table\"]/table[2]/tbody/tr[1]/td[3]/a[1]' #公司\n",
    "'//*[@id=\"newlist_list_content_table\"]/table[2]/tbody/tr[1]/td[4]' #薪资\n",
    "'//*[@id=\"newlist_list_content_table\"]/table[2]/tbody/tr[1]/td[5]'#地址"
   ]
  },
  {
   "cell_type": "code",
   "execution_count": 3,
   "metadata": {},
   "outputs": [],
   "source": [
    "import requests\n",
    "from lxml import etree\n",
    "import time"
   ]
  },
  {
   "cell_type": "code",
   "execution_count": 13,
   "metadata": {},
   "outputs": [
    {
     "name": "stdout",
     "output_type": "stream",
     "text": [
      "Java+人工智能开发实习生（\n"
     ]
    }
   ],
   "source": [
    "url = 'https://sou.zhaopin.com/jobs/searchresult.ashx?jl=%E5%8E%A6%E9%97%A8&kw=python&p=1&isadv=0'\n",
    "\n",
    "res = requests.get(url).text\n",
    "p = etree.HTML(res)\n",
    "time.sleep(1.5)\n",
    "file = p.xpath('//*[@id=\"newlist_list_content_table\"]/table[1]')[0]\n",
    "print(file)\n"
   ]
  },
  {
   "cell_type": "code",
   "execution_count": null,
   "metadata": {},
   "outputs": [],
   "source": [
    "'//*[@id=\"newlist_list_content_table\"]/table[2]/tbody/tr[1]/td[1]/div/a[1]/b'\n",
    "\n",
    "'//*[@id=\"newlist_list_content_table\"]/table[1]/tbody/tr/th[1]/span'\n",
    "'//*[@id=\"newlist_list_content_table\"]/table[1]/tbody/tr/th[2]'\n",
    "'//*[@id=\"newlist_list_content_table\"]/table[1]/tbody/tr/th[3]'\n",
    "//*[@id=\"newlist_list_content_table\"]/table[1]/tbody/tr/th[4]"
   ]
  },
  {
   "cell_type": "code",
   "execution_count": null,
   "metadata": {},
   "outputs": [],
   "source": [
    "with open('python_zhaoping.csv','w',encoding='utf-8') as f:\n",
    "    url = 'https://sou.zhaopin.com/jobs/searchresult.ashx?jl=%E5%8E%A6%E9%97%A8&kw=python&p=1&isadv=0'\n",
    "    res = requests.get(url)\n",
    "    p = etree.HTML(res)\n",
    "    \n",
    "    job_n = p.xpath('//*[@id=\"newlist_list_content_table\"]/table[1]/tbody/tr/th[1]/span/text()')[0]\n",
    "    company = p.xpath('//*[@id=\"newlist_list_content_table\"]/table[1]/tbody/tr/th[3]/text')[0]\n",
    "    money = p.xpath('//*[@id=\"newlist_list_content_table\"]/table[1]/tbody/tr/th[4]/text()')[0]\n",
    "    \n",
    "    \n",
    "    for i in range(7):\n",
    "        url = 'https://sou.zhaopin.com/jobs/searchresult.ashx?jl=%E5%8E%A6%E9%97%A8&kw=python&p={}&isadv=0'.format(i+1)\n",
    "        res = requests.get(url)\n",
    "        p = etree.HTML(url)\n",
    "        file = ''"
   ]
  }
 ],
 "metadata": {
  "kernelspec": {
   "display_name": "Python 3",
   "language": "python",
   "name": "python3"
  },
  "language_info": {
   "codemirror_mode": {
    "name": "ipython",
    "version": 3
   },
   "file_extension": ".py",
   "mimetype": "text/x-python",
   "name": "python",
   "nbconvert_exporter": "python",
   "pygments_lexer": "ipython3",
   "version": "3.6.4"
  }
 },
 "nbformat": 4,
 "nbformat_minor": 2
}
